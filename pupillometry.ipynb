{
 "cells": [
  {
   "cell_type": "code",
   "execution_count": 3,
   "id": "6c90d2b3",
   "metadata": {},
   "outputs": [],
   "source": [
    "import cv2\n",
    "import os\n",
    "import json"
   ]
  },
  {
   "cell_type": "code",
   "execution_count": 11,
   "id": "813626ed",
   "metadata": {},
   "outputs": [],
   "source": [
    "path_gifs_info=\"/scratch/mepicard/eyetracking_data/emotionvideos/offline_calibration/\"\n",
    "sub=os.listdir(path_gifs_info)"
   ]
  },
  {
   "cell_type": "code",
   "execution_count": 12,
   "id": "dc4cc2b8",
   "metadata": {},
   "outputs": [
    {
     "data": {
      "text/plain": [
       "['sub-02', 'sub-01', 'sub-03', 'sub-06', 'sub-04', 'sub-05']"
      ]
     },
     "execution_count": 12,
     "metadata": {},
     "output_type": "execute_result"
    }
   ],
   "source": [
    "sub"
   ]
  },
  {
   "cell_type": "code",
   "execution_count": null,
   "id": "2b57648b",
   "metadata": {},
   "outputs": [],
   "source": []
  }
 ],
 "metadata": {
  "kernelspec": {
   "display_name": "Python 3 (ipykernel)",
   "language": "python",
   "name": "python3"
  },
  "language_info": {
   "codemirror_mode": {
    "name": "ipython",
    "version": 3
   },
   "file_extension": ".py",
   "mimetype": "text/x-python",
   "name": "python",
   "nbconvert_exporter": "python",
   "pygments_lexer": "ipython3",
   "version": "3.7.5"
  }
 },
 "nbformat": 4,
 "nbformat_minor": 5
}
