{
 "cells": [
  {
   "cell_type": "code",
   "execution_count": 48,
   "id": "afdce0c4",
   "metadata": {},
   "outputs": [],
   "source": [
    "import os\n",
    "import pandas as pd\n",
    "import itertools"
   ]
  },
  {
   "cell_type": "code",
   "execution_count": 49,
   "id": "dfc1b5e3",
   "metadata": {},
   "outputs": [],
   "source": [
    "path_runs_order = \"/home/mepicard/Documents/emotionvideos/stimuli/design_runs_order\"\n",
    "path_segmented_data = \"/scratch/mepicard/physio_data/emotionvideos/\""
   ]
  },
  {
   "cell_type": "code",
   "execution_count": 50,
   "id": "92524a0c",
   "metadata": {
    "scrolled": true
   },
   "outputs": [
    {
     "data": {
      "text/plain": [
       "['sub-06_design_run_order.tsv',\n",
       " 'sub-01_design_run_order.tsv',\n",
       " 'sub-04_design_run_order.tsv',\n",
       " 'sub-02_design_run_order.tsv',\n",
       " 'sub-05_design_run_order.tsv',\n",
       " 'sub-03_design_run_order.tsv']"
      ]
     },
     "execution_count": 50,
     "metadata": {},
     "output_type": "execute_result"
    }
   ],
   "source": [
    "os.listdir(path_runs_order)"
   ]
  },
  {
   "cell_type": "code",
   "execution_count": 87,
   "id": "edd60118",
   "metadata": {
    "scrolled": false
   },
   "outputs": [],
   "source": [
    "sub='sub-02'\n",
    "for file in os.listdir(path_runs_order):\n",
    "    if sub in file:\n",
    "        df = pd.read_csv(os.path.join(path_runs_order, file), sep='\\t')\n",
    "        filenames, name_session = [], []\n",
    "        idx_ses = 0\n",
    "        for session in os.listdir(os.path.join(path_segmented_data, sub)):\n",
    "            if os.path.isdir(os.path.join(path_segmented_data, sub, session)):\n",
    "                idx_ses+=1\n",
    "                filename_run = []\n",
    "                for idx_run, run in enumerate(os.listdir(os.path.join(path_segmented_data, sub, session))): \n",
    "                    if 'json' in run and '_01.json' not in run:\n",
    "                        filename_run.append(run.split(\".\")[0]) \n",
    "                        name_session.append(f\"ses-00{idx_ses}\")\n",
    "                    filename_run.sort()\n",
    "                filenames.append(filename_run)\n",
    "        filenames = list(itertools.chain.from_iterable(filenames))\n",
    "        filenames.sort()\n",
    "        df['session'] = name_session\n",
    "        df['filename'] = filenames"
   ]
  },
  {
   "cell_type": "code",
   "execution_count": 88,
   "id": "bc678402",
   "metadata": {
    "scrolled": false
   },
   "outputs": [],
   "source": [
    "df.to_csv(os.path.join(path_runs_order, 'sub-02_design_run_order.tsv'), sep='\\t')"
   ]
  },
  {
   "cell_type": "code",
   "execution_count": 55,
   "id": "eb374cba",
   "metadata": {},
   "outputs": [
    {
     "data": {
      "text/plain": [
       "43"
      ]
     },
     "execution_count": 55,
     "metadata": {},
     "output_type": "execute_result"
    }
   ],
   "source": [
    "len(list(itertools.chain.from_iterable(filenames)))"
   ]
  },
  {
   "cell_type": "code",
   "execution_count": 61,
   "id": "eebda54a",
   "metadata": {},
   "outputs": [],
   "source": [
    "filenames = list(itertools.chain.from_iterable(filenames))\n",
    "filenames_sort.sort()"
   ]
  },
  {
   "cell_type": "code",
   "execution_count": 62,
   "id": "fcc4ffbb",
   "metadata": {},
   "outputs": [
    {
     "data": {
      "text/plain": [
       "['neuromod_video52023-02-01T10_43_20_02.json',\n",
       " 'neuromod_video52023-02-01T10_43_20_03.json',\n",
       " 'neuromod_video52023-02-01T10_43_20_04.json',\n",
       " 'neuromod_video52023-02-01T10_43_20_05.json',\n",
       " 'neuromod_video52023-02-01T10_43_20_06.json',\n",
       " 'neuromod_video52023-02-01T10_43_20_07.json',\n",
       " 'neuromod_video52023-02-08T10_43_56_01.json',\n",
       " 'neuromod_video52023-02-08T10_43_56_02.json',\n",
       " 'neuromod_video52023-02-08T10_43_56_03.json',\n",
       " 'neuromod_video52023-02-08T10_43_56_04.json',\n",
       " 'neuromod_video52023-02-08T10_43_56_05.json',\n",
       " 'neuromod_video52023-02-08T10_43_56_06.json',\n",
       " 'neuromod_video52023-02-08T10_43_56_07.json',\n",
       " 'neuromod_video52023-02-13T14_29_00_01.json',\n",
       " 'neuromod_video52023-02-13T14_29_00_02.json',\n",
       " 'neuromod_video52023-02-13T14_29_00_03.json',\n",
       " 'neuromod_video52023-02-15T09_07_27_01.json',\n",
       " 'neuromod_video52023-02-15T09_07_27_02.json',\n",
       " 'neuromod_video52023-02-15T09_07_27_03.json',\n",
       " 'neuromod_video52023-02-15T09_07_27_04.json',\n",
       " 'neuromod_video52023-02-15T09_07_27_05.json',\n",
       " 'neuromod_video52023-02-15T09_07_27_06.json',\n",
       " 'neuromod_video52023-02-15T09_07_27_07.json',\n",
       " 'neuromod_video52023-02-16T15_12_44_01.json',\n",
       " 'neuromod_video52023-02-16T15_12_44_02.json',\n",
       " 'neuromod_video52023-02-16T15_12_44_03.json',\n",
       " 'neuromod_video52023-02-16T15_12_44_04.json',\n",
       " 'neuromod_video52023-02-16T15_12_44_05.json',\n",
       " 'neuromod_video52023-02-16T15_12_44_06.json',\n",
       " 'neuromod_video52023-02-16T15_12_44_07.json',\n",
       " 'neuromod_video52023-02-22T10_38_10_01.json',\n",
       " 'neuromod_video52023-02-22T10_38_10_02.json',\n",
       " 'neuromod_video52023-02-22T10_38_10_03.json',\n",
       " 'neuromod_video52023-02-22T10_38_10_04.json',\n",
       " 'neuromod_video52023-02-22T10_38_10_05.json',\n",
       " 'neuromod_video52023-02-22T10_38_10_06.json',\n",
       " 'neuromod_video52023-02-22T10_38_10_07.json',\n",
       " 'neuromod_video52023-03-01T10_37_58_01.json',\n",
       " 'neuromod_video52023-03-01T10_37_58_02.json',\n",
       " 'neuromod_video52023-03-01T10_37_58_03.json',\n",
       " 'neuromod_video52023-03-01T10_37_58_04.json',\n",
       " 'neuromod_video52023-03-01T10_37_58_05.json',\n",
       " 'neuromod_video52023-03-01T10_37_58_06.json']"
      ]
     },
     "execution_count": 62,
     "metadata": {},
     "output_type": "execute_result"
    }
   ],
   "source": [
    "filenames_sort"
   ]
  },
  {
   "cell_type": "code",
   "execution_count": null,
   "id": "8bd3d80e",
   "metadata": {},
   "outputs": [],
   "source": []
  }
 ],
 "metadata": {
  "kernelspec": {
   "display_name": "Python 3 (ipykernel)",
   "language": "python",
   "name": "python3"
  },
  "language_info": {
   "codemirror_mode": {
    "name": "ipython",
    "version": 3
   },
   "file_extension": ".py",
   "mimetype": "text/x-python",
   "name": "python",
   "nbconvert_exporter": "python",
   "pygments_lexer": "ipython3",
   "version": "3.10.6"
  }
 },
 "nbformat": 4,
 "nbformat_minor": 5
}
